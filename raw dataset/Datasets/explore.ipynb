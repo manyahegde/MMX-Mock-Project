{
 "cells": [
  {
   "cell_type": "code",
   "execution_count": 1,
   "id": "c6f9b27e-26a7-4b2d-9ba9-3ce167501d73",
   "metadata": {},
   "outputs": [],
   "source": [
    "import pandas as pd"
   ]
  },
  {
   "cell_type": "code",
   "execution_count": 2,
   "id": "06aa9947-c58a-41fe-a598-0a044d2be188",
   "metadata": {},
   "outputs": [],
   "source": [
    "df=pd.read_excel('ConsumerNPPMasterData.xlsx')"
   ]
  },
  {
   "cell_type": "code",
   "execution_count": 3,
   "id": "38eed08a-10cc-4804-979d-e203b8beb9d3",
   "metadata": {},
   "outputs": [
    {
     "data": {
      "text/html": [
       "<div>\n",
       "<style scoped>\n",
       "    .dataframe tbody tr th:only-of-type {\n",
       "        vertical-align: middle;\n",
       "    }\n",
       "\n",
       "    .dataframe tbody tr th {\n",
       "        vertical-align: top;\n",
       "    }\n",
       "\n",
       "    .dataframe thead th {\n",
       "        text-align: right;\n",
       "    }\n",
       "</style>\n",
       "<table border=\"1\" class=\"dataframe\">\n",
       "  <thead>\n",
       "    <tr style=\"text-align: right;\">\n",
       "      <th></th>\n",
       "      <th>DMA</th>\n",
       "      <th>Metrics</th>\n",
       "      <th>Date</th>\n",
       "      <th>aspmn / banner</th>\n",
       "      <th>aspmn / enewsletter banner</th>\n",
       "      <th>cardinal health / email</th>\n",
       "      <th>coegi / banner</th>\n",
       "      <th>dmd / email</th>\n",
       "      <th>ehs / banner</th>\n",
       "      <th>ehs / email</th>\n",
       "      <th>...</th>\n",
       "      <th>ppm / banner</th>\n",
       "      <th>ppm / email</th>\n",
       "      <th>pulsepoint / banner</th>\n",
       "      <th>semcasting / banner</th>\n",
       "      <th>sharecare / banner</th>\n",
       "      <th>trendmd / headline</th>\n",
       "      <th>valassis / banner</th>\n",
       "      <th>various / banner</th>\n",
       "      <th>webmd / banner</th>\n",
       "      <th>webmd / native</th>\n",
       "    </tr>\n",
       "  </thead>\n",
       "  <tbody>\n",
       "    <tr>\n",
       "      <th>0</th>\n",
       "      <td>(not set)</td>\n",
       "      <td>Clicks</td>\n",
       "      <td>2019-07-01</td>\n",
       "      <td>6</td>\n",
       "      <td>4</td>\n",
       "      <td>0</td>\n",
       "      <td>0</td>\n",
       "      <td>0</td>\n",
       "      <td>0</td>\n",
       "      <td>0</td>\n",
       "      <td>...</td>\n",
       "      <td>0</td>\n",
       "      <td>0</td>\n",
       "      <td>0</td>\n",
       "      <td>0</td>\n",
       "      <td>0</td>\n",
       "      <td>0</td>\n",
       "      <td>278</td>\n",
       "      <td>0</td>\n",
       "      <td>0</td>\n",
       "      <td>71</td>\n",
       "    </tr>\n",
       "    <tr>\n",
       "      <th>1</th>\n",
       "      <td>(not set)</td>\n",
       "      <td>Clicks</td>\n",
       "      <td>2019-08-01</td>\n",
       "      <td>6</td>\n",
       "      <td>0</td>\n",
       "      <td>0</td>\n",
       "      <td>0</td>\n",
       "      <td>0</td>\n",
       "      <td>0</td>\n",
       "      <td>0</td>\n",
       "      <td>...</td>\n",
       "      <td>0</td>\n",
       "      <td>0</td>\n",
       "      <td>3</td>\n",
       "      <td>0</td>\n",
       "      <td>0</td>\n",
       "      <td>0</td>\n",
       "      <td>209</td>\n",
       "      <td>0</td>\n",
       "      <td>0</td>\n",
       "      <td>167</td>\n",
       "    </tr>\n",
       "    <tr>\n",
       "      <th>2</th>\n",
       "      <td>(not set)</td>\n",
       "      <td>Clicks</td>\n",
       "      <td>2019-09-01</td>\n",
       "      <td>10</td>\n",
       "      <td>2</td>\n",
       "      <td>0</td>\n",
       "      <td>0</td>\n",
       "      <td>0</td>\n",
       "      <td>37</td>\n",
       "      <td>0</td>\n",
       "      <td>...</td>\n",
       "      <td>0</td>\n",
       "      <td>0</td>\n",
       "      <td>1</td>\n",
       "      <td>0</td>\n",
       "      <td>0</td>\n",
       "      <td>0</td>\n",
       "      <td>403</td>\n",
       "      <td>0</td>\n",
       "      <td>0</td>\n",
       "      <td>260</td>\n",
       "    </tr>\n",
       "    <tr>\n",
       "      <th>3</th>\n",
       "      <td>(not set)</td>\n",
       "      <td>Clicks</td>\n",
       "      <td>2019-10-01</td>\n",
       "      <td>3</td>\n",
       "      <td>1</td>\n",
       "      <td>0</td>\n",
       "      <td>63</td>\n",
       "      <td>0</td>\n",
       "      <td>67</td>\n",
       "      <td>0</td>\n",
       "      <td>...</td>\n",
       "      <td>15</td>\n",
       "      <td>0</td>\n",
       "      <td>0</td>\n",
       "      <td>0</td>\n",
       "      <td>0</td>\n",
       "      <td>16</td>\n",
       "      <td>68</td>\n",
       "      <td>0</td>\n",
       "      <td>0</td>\n",
       "      <td>238</td>\n",
       "    </tr>\n",
       "    <tr>\n",
       "      <th>4</th>\n",
       "      <td>(not set)</td>\n",
       "      <td>Clicks</td>\n",
       "      <td>2019-11-01</td>\n",
       "      <td>9</td>\n",
       "      <td>1</td>\n",
       "      <td>0</td>\n",
       "      <td>27</td>\n",
       "      <td>0</td>\n",
       "      <td>56</td>\n",
       "      <td>0</td>\n",
       "      <td>...</td>\n",
       "      <td>27</td>\n",
       "      <td>0</td>\n",
       "      <td>0</td>\n",
       "      <td>0</td>\n",
       "      <td>0</td>\n",
       "      <td>0</td>\n",
       "      <td>44</td>\n",
       "      <td>0</td>\n",
       "      <td>0</td>\n",
       "      <td>188</td>\n",
       "    </tr>\n",
       "  </tbody>\n",
       "</table>\n",
       "<p>5 rows × 28 columns</p>\n",
       "</div>"
      ],
      "text/plain": [
       "         DMA Metrics       Date  aspmn / banner  aspmn / enewsletter banner  \\\n",
       "0  (not set)  Clicks 2019-07-01               6                           4   \n",
       "1  (not set)  Clicks 2019-08-01               6                           0   \n",
       "2  (not set)  Clicks 2019-09-01              10                           2   \n",
       "3  (not set)  Clicks 2019-10-01               3                           1   \n",
       "4  (not set)  Clicks 2019-11-01               9                           1   \n",
       "\n",
       "   cardinal health / email  coegi / banner  dmd / email  ehs / banner  \\\n",
       "0                        0               0            0             0   \n",
       "1                        0               0            0             0   \n",
       "2                        0               0            0            37   \n",
       "3                        0              63            0            67   \n",
       "4                        0              27            0            56   \n",
       "\n",
       "   ehs / email  ...  ppm / banner  ppm / email  pulsepoint / banner  \\\n",
       "0            0  ...             0            0                    0   \n",
       "1            0  ...             0            0                    3   \n",
       "2            0  ...             0            0                    1   \n",
       "3            0  ...            15            0                    0   \n",
       "4            0  ...            27            0                    0   \n",
       "\n",
       "   semcasting / banner  sharecare / banner  trendmd / headline  \\\n",
       "0                    0                   0                   0   \n",
       "1                    0                   0                   0   \n",
       "2                    0                   0                   0   \n",
       "3                    0                   0                  16   \n",
       "4                    0                   0                   0   \n",
       "\n",
       "   valassis / banner  various / banner  webmd / banner  webmd / native  \n",
       "0                278                 0               0              71  \n",
       "1                209                 0               0             167  \n",
       "2                403                 0               0             260  \n",
       "3                 68                 0               0             238  \n",
       "4                 44                 0               0             188  \n",
       "\n",
       "[5 rows x 28 columns]"
      ]
     },
     "execution_count": 3,
     "metadata": {},
     "output_type": "execute_result"
    }
   ],
   "source": [
    "df.head()"
   ]
  },
  {
   "cell_type": "code",
   "execution_count": 4,
   "id": "f188c2f3-8231-448d-8edf-009ea8d8f33f",
   "metadata": {},
   "outputs": [
    {
     "data": {
      "text/plain": [
       "['DMA',\n",
       " 'Metrics',\n",
       " 'Date',\n",
       " 'aspmn / banner',\n",
       " 'aspmn / enewsletter banner',\n",
       " 'cardinal health / email',\n",
       " 'coegi / banner',\n",
       " 'dmd / email',\n",
       " 'ehs / banner',\n",
       " 'ehs / email',\n",
       " 'ehs / native',\n",
       " 'everydayhealth / banner',\n",
       " 'facebook / paid social',\n",
       " 'google / cpc',\n",
       " 'medscape / push email',\n",
       " 'numedis / mdchatbot',\n",
       " 'painmedicinenews / banner',\n",
       " 'painweek / email',\n",
       " 'ppm / banner',\n",
       " 'ppm / email',\n",
       " 'pulsepoint / banner',\n",
       " 'semcasting / banner',\n",
       " 'sharecare / banner',\n",
       " 'trendmd / headline',\n",
       " 'valassis / banner',\n",
       " 'various / banner',\n",
       " 'webmd / banner',\n",
       " 'webmd / native']"
      ]
     },
     "execution_count": 4,
     "metadata": {},
     "output_type": "execute_result"
    }
   ],
   "source": [
    "df.columns.to_list()"
   ]
  },
  {
   "cell_type": "code",
   "execution_count": 8,
   "id": "ab779601-0f2d-40fc-a524-5f8043b81102",
   "metadata": {},
   "outputs": [
    {
     "data": {
      "text/plain": [
       "array(['Clicks', 'Conversions', 'Engaged Visits', 'Impressions',\n",
       "       'Sessions'], dtype=object)"
      ]
     },
     "execution_count": 8,
     "metadata": {},
     "output_type": "execute_result"
    }
   ],
   "source": [
    "df.Metrics.unique()"
   ]
  },
  {
   "cell_type": "code",
   "execution_count": 9,
   "id": "d0fb769d-8bf4-4c44-8a43-dd740a4c3496",
   "metadata": {},
   "outputs": [
    {
     "data": {
      "text/plain": [
       "aspmn / banner\n",
       "0       10946\n",
       "1         313\n",
       "2         191\n",
       "3          85\n",
       "5          54\n",
       "        ...  \n",
       "1378        1\n",
       "2743        1\n",
       "884         1\n",
       "877         1\n",
       "487         1\n",
       "Name: count, Length: 622, dtype: int64"
      ]
     },
     "execution_count": 9,
     "metadata": {},
     "output_type": "execute_result"
    }
   ],
   "source": [
    "df['aspmn / banner'].value_counts()"
   ]
  },
  {
   "cell_type": "code",
   "execution_count": 10,
   "id": "f3a9b83c-0eda-4246-9ed9-1086fc93a163",
   "metadata": {},
   "outputs": [],
   "source": [
    "df2=pd.read_excel('HCPFinalSegment.xlsx')"
   ]
  },
  {
   "cell_type": "code",
   "execution_count": 11,
   "id": "bc170dd5-ea0d-4613-8338-f700c197f8a4",
   "metadata": {},
   "outputs": [
    {
     "data": {
      "text/html": [
       "<div>\n",
       "<style scoped>\n",
       "    .dataframe tbody tr th:only-of-type {\n",
       "        vertical-align: middle;\n",
       "    }\n",
       "\n",
       "    .dataframe tbody tr th {\n",
       "        vertical-align: top;\n",
       "    }\n",
       "\n",
       "    .dataframe thead th {\n",
       "        text-align: right;\n",
       "    }\n",
       "</style>\n",
       "<table border=\"1\" class=\"dataframe\">\n",
       "  <thead>\n",
       "    <tr style=\"text-align: right;\">\n",
       "      <th></th>\n",
       "      <th>SymphonyID</th>\n",
       "      <th>Tier1</th>\n",
       "      <th>Tier2</th>\n",
       "      <th>TRx</th>\n",
       "      <th>LAOTRx</th>\n",
       "      <th>Unnamed: 5</th>\n",
       "    </tr>\n",
       "  </thead>\n",
       "  <tbody>\n",
       "    <tr>\n",
       "      <th>0</th>\n",
       "      <td>10624194</td>\n",
       "      <td>1</td>\n",
       "      <td>1</td>\n",
       "      <td>0</td>\n",
       "      <td>8</td>\n",
       "      <td>NaT</td>\n",
       "    </tr>\n",
       "    <tr>\n",
       "      <th>1</th>\n",
       "      <td>10624420</td>\n",
       "      <td>1</td>\n",
       "      <td>1</td>\n",
       "      <td>0</td>\n",
       "      <td>8</td>\n",
       "      <td>NaT</td>\n",
       "    </tr>\n",
       "    <tr>\n",
       "      <th>2</th>\n",
       "      <td>10626245</td>\n",
       "      <td>1</td>\n",
       "      <td>2</td>\n",
       "      <td>2</td>\n",
       "      <td>8</td>\n",
       "      <td>NaT</td>\n",
       "    </tr>\n",
       "    <tr>\n",
       "      <th>3</th>\n",
       "      <td>11840985</td>\n",
       "      <td>1</td>\n",
       "      <td>1</td>\n",
       "      <td>0</td>\n",
       "      <td>8</td>\n",
       "      <td>NaT</td>\n",
       "    </tr>\n",
       "    <tr>\n",
       "      <th>4</th>\n",
       "      <td>11842540</td>\n",
       "      <td>1</td>\n",
       "      <td>1</td>\n",
       "      <td>0</td>\n",
       "      <td>8</td>\n",
       "      <td>NaT</td>\n",
       "    </tr>\n",
       "  </tbody>\n",
       "</table>\n",
       "</div>"
      ],
      "text/plain": [
       "   SymphonyID  Tier1  Tier2  TRx  LAOTRx Unnamed: 5\n",
       "0    10624194      1      1    0       8        NaT\n",
       "1    10624420      1      1    0       8        NaT\n",
       "2    10626245      1      2    2       8        NaT\n",
       "3    11840985      1      1    0       8        NaT\n",
       "4    11842540      1      1    0       8        NaT"
      ]
     },
     "execution_count": 11,
     "metadata": {},
     "output_type": "execute_result"
    }
   ],
   "source": [
    "df2.head()"
   ]
  },
  {
   "cell_type": "code",
   "execution_count": 14,
   "id": "c2303eac-7baa-47a4-9566-aeb9774302a2",
   "metadata": {},
   "outputs": [
    {
     "data": {
      "text/plain": [
       "Tier1\n",
       "1     2121\n",
       "2     2120\n",
       "3     2120\n",
       "4     2120\n",
       "5     2120\n",
       "6     2120\n",
       "7     2120\n",
       "8     2120\n",
       "9     2120\n",
       "10    2120\n",
       "Name: count, dtype: int64"
      ]
     },
     "execution_count": 14,
     "metadata": {},
     "output_type": "execute_result"
    }
   ],
   "source": [
    "df2.Tier1.value_counts()"
   ]
  },
  {
   "cell_type": "code",
   "execution_count": 15,
   "id": "3c37f552-2e5f-4f3e-b8d2-09bd94a667f4",
   "metadata": {},
   "outputs": [
    {
     "data": {
      "text/plain": [
       "Tier2\n",
       "1    10810\n",
       "2     5817\n",
       "3     4574\n",
       "Name: count, dtype: int64"
      ]
     },
     "execution_count": 15,
     "metadata": {},
     "output_type": "execute_result"
    }
   ],
   "source": [
    "df2.Tier2.value_counts()"
   ]
  },
  {
   "cell_type": "code",
   "execution_count": 18,
   "id": "e0e6c59a-7ae4-4184-8384-3124c90dad39",
   "metadata": {},
   "outputs": [
    {
     "data": {
      "text/plain": [
       "LAOTRx\n",
       "1       517\n",
       "2       337\n",
       "3       314\n",
       "4       256\n",
       "5       224\n",
       "       ... \n",
       "1897      1\n",
       "1896      1\n",
       "1892      1\n",
       "1888      1\n",
       "1887      1\n",
       "Name: count, Length: 2152, dtype: int64"
      ]
     },
     "execution_count": 18,
     "metadata": {},
     "output_type": "execute_result"
    }
   ],
   "source": [
    "df2.LAOTRx.value_counts()"
   ]
  },
  {
   "cell_type": "code",
   "execution_count": 1,
   "id": "dcb11ddb-1248-4dbb-b099-737788b7e74c",
   "metadata": {},
   "outputs": [],
   "source": [
    "import pandas as pd"
   ]
  },
  {
   "cell_type": "code",
   "execution_count": 3,
   "id": "7e3f8882-4a96-4a9a-ab3a-5b7973280f05",
   "metadata": {},
   "outputs": [],
   "source": [
    "df=pd.read_excel('HCPMasterData.xlsx')"
   ]
  },
  {
   "cell_type": "code",
   "execution_count": 4,
   "id": "fbd03a08-e881-4623-ae75-13924bf12804",
   "metadata": {},
   "outputs": [
    {
     "data": {
      "text/plain": [
       "Index(['SymphonyID', 'Date', 'BupMktNRx', 'BupMktTRx', 'NRx', 'TRx', 'PDE',\n",
       "       'P1', 'P2', 'Copay', 'SpeakerEvent'],\n",
       "      dtype='object')"
      ]
     },
     "execution_count": 4,
     "metadata": {},
     "output_type": "execute_result"
    }
   ],
   "source": [
    "df.columns"
   ]
  },
  {
   "cell_type": "code",
   "execution_count": 6,
   "id": "71e512eb-ebb9-4b25-9a52-269859cf137f",
   "metadata": {},
   "outputs": [
    {
     "data": {
      "text/plain": [
       "SpeakerEvent\n",
       "1.0    115\n",
       "2.0      4\n",
       "Name: count, dtype: int64"
      ]
     },
     "execution_count": 6,
     "metadata": {},
     "output_type": "execute_result"
    }
   ],
   "source": [
    "df.SpeakerEvent.value_counts()"
   ]
  },
  {
   "cell_type": "code",
   "execution_count": 7,
   "id": "fe1b08c8-14db-4a08-87d4-8cf033cc1914",
   "metadata": {},
   "outputs": [],
   "source": [
    "df=pd.read_excel('HCPNPPMasterData.xlsx')\n"
   ]
  },
  {
   "cell_type": "code",
   "execution_count": 8,
   "id": "5b3ee0e1-85c2-47b0-bbb8-cbab7e376823",
   "metadata": {},
   "outputs": [
    {
     "data": {
      "text/plain": [
       "Index(['Metrics', 'Date', 'TrendMD / Headlines', 'SymphonyID'], dtype='object')"
      ]
     },
     "execution_count": 8,
     "metadata": {},
     "output_type": "execute_result"
    }
   ],
   "source": [
    "df.columns"
   ]
  },
  {
   "cell_type": "code",
   "execution_count": 9,
   "id": "d14a84ed-3764-4427-8424-a5720a97f61a",
   "metadata": {},
   "outputs": [
    {
     "data": {
      "text/plain": [
       "Metrics\n",
       "Clicks    21084\n",
       "Name: count, dtype: int64"
      ]
     },
     "execution_count": 9,
     "metadata": {},
     "output_type": "execute_result"
    }
   ],
   "source": [
    "df.Metrics.value_counts()"
   ]
  },
  {
   "cell_type": "code",
   "execution_count": 10,
   "id": "4b52d904-15b3-49bb-8931-c8ed7d78ac39",
   "metadata": {},
   "outputs": [
    {
     "data": {
      "text/plain": [
       "array(['Clicks'], dtype=object)"
      ]
     },
     "execution_count": 10,
     "metadata": {},
     "output_type": "execute_result"
    }
   ],
   "source": [
    "df.Metrics.unique()"
   ]
  },
  {
   "cell_type": "code",
   "execution_count": 11,
   "id": "b76c2955-6927-42e2-8da5-2f794c7a3bf4",
   "metadata": {},
   "outputs": [
    {
     "data": {
      "text/plain": [
       "TrendMD / Headlines\n",
       "0    19254\n",
       "1     1830\n",
       "Name: count, dtype: int64"
      ]
     },
     "execution_count": 11,
     "metadata": {},
     "output_type": "execute_result"
    }
   ],
   "source": [
    "df['TrendMD / Headlines'].value_counts()"
   ]
  },
  {
   "cell_type": "code",
   "execution_count": 12,
   "id": "8a3245c7-8001-427b-a1e3-4adcfd5dd256",
   "metadata": {},
   "outputs": [],
   "source": [
    "df=pd.read_csv('HCPZIPMapping.csv')"
   ]
  },
  {
   "cell_type": "code",
   "execution_count": 13,
   "id": "d0667cec-a123-48a9-97da-4842cfd4b676",
   "metadata": {},
   "outputs": [
    {
     "data": {
      "text/plain": [
       "Index(['Unnamed: 0', 'SymphonyID', 'Zip'], dtype='object')"
      ]
     },
     "execution_count": 13,
     "metadata": {},
     "output_type": "execute_result"
    }
   ],
   "source": [
    "df.columns"
   ]
  },
  {
   "cell_type": "code",
   "execution_count": 15,
   "id": "63c1a2cd-3ab4-4b1f-845d-8bc9e9d14368",
   "metadata": {},
   "outputs": [
    {
     "data": {
      "text/plain": [
       "Zip\n",
       "00601    717\n",
       "00988    309\n",
       "95501     77\n",
       "59101     76\n",
       "95817     65\n",
       "        ... \n",
       "16635      1\n",
       "17857      1\n",
       "24963      1\n",
       "30528      1\n",
       "93702      1\n",
       "Name: count, Length: 7400, dtype: int64"
      ]
     },
     "execution_count": 15,
     "metadata": {},
     "output_type": "execute_result"
    }
   ],
   "source": [
    "df.Zip.value_counts()"
   ]
  },
  {
   "cell_type": "code",
   "execution_count": 17,
   "id": "9de711ec-c787-420d-9b86-16f53871813a",
   "metadata": {},
   "outputs": [
    {
     "data": {
      "text/plain": [
       "33002"
      ]
     },
     "execution_count": 17,
     "metadata": {},
     "output_type": "execute_result"
    }
   ],
   "source": [
    "df['Unnamed: 0'].nunique()"
   ]
  },
  {
   "cell_type": "code",
   "execution_count": 18,
   "id": "993c7174-683b-45b4-8c2f-982df7e11e3c",
   "metadata": {},
   "outputs": [
    {
     "data": {
      "text/plain": [
       "Unnamed: 0    33002\n",
       "SymphonyID    33002\n",
       "Zip           31705\n",
       "dtype: int64"
      ]
     },
     "execution_count": 18,
     "metadata": {},
     "output_type": "execute_result"
    }
   ],
   "source": [
    "df.count()"
   ]
  },
  {
   "cell_type": "code",
   "execution_count": 20,
   "id": "71439e69-2ee8-429e-806a-1be88d1bebbd",
   "metadata": {},
   "outputs": [],
   "source": [
    "df=pd.read_csv('Segementation_cluster.csv')"
   ]
  },
  {
   "cell_type": "code",
   "execution_count": 21,
   "id": "2c6c60bc-f9e9-4180-8635-87d609fc0b06",
   "metadata": {},
   "outputs": [
    {
     "data": {
      "text/plain": [
       "Index(['Tier1', 'Tier2', 'Cluster'], dtype='object')"
      ]
     },
     "execution_count": 21,
     "metadata": {},
     "output_type": "execute_result"
    }
   ],
   "source": [
    "df.columns"
   ]
  },
  {
   "cell_type": "code",
   "execution_count": 24,
   "id": "ad186569-008d-4502-8da9-bd5cd10c7c49",
   "metadata": {},
   "outputs": [
    {
     "data": {
      "text/plain": [
       "array([ 1,  2,  3,  4,  5,  6,  7,  8,  9, 10])"
      ]
     },
     "execution_count": 24,
     "metadata": {},
     "output_type": "execute_result"
    }
   ],
   "source": [
    "df['Tier1'].unique()"
   ]
  },
  {
   "cell_type": "code",
   "execution_count": 25,
   "id": "df2d5dec-235f-401f-bc8b-f34d88ef076f",
   "metadata": {},
   "outputs": [
    {
     "data": {
      "text/plain": [
       "array([1, 2, 3])"
      ]
     },
     "execution_count": 25,
     "metadata": {},
     "output_type": "execute_result"
    }
   ],
   "source": [
    "df['Tier2'].unique()"
   ]
  },
  {
   "cell_type": "code",
   "execution_count": 26,
   "id": "a364a3c1-a8aa-4b50-b01f-038a58440079",
   "metadata": {},
   "outputs": [
    {
     "data": {
      "text/plain": [
       "array([ 1,  2,  3,  4,  5,  6,  7,  8,  9, 10, 11, 12, 13, 14, 15, 16, 17,\n",
       "       18, 19, 20, 21, 22, 23, 24])"
      ]
     },
     "execution_count": 26,
     "metadata": {},
     "output_type": "execute_result"
    }
   ],
   "source": [
    "df['Cluster'].unique()"
   ]
  },
  {
   "cell_type": "code",
   "execution_count": 27,
   "id": "1d727f25-e0af-4ec1-a3a9-aef42dda2351",
   "metadata": {},
   "outputs": [],
   "source": [
    "df=pd.read_csv('zip_dma.csv')"
   ]
  },
  {
   "cell_type": "code",
   "execution_count": 29,
   "id": "6d863cb0-bc06-4bbf-b39b-4307ec3beb3c",
   "metadata": {},
   "outputs": [
    {
     "data": {
      "text/plain": [
       "['Zip Code', 'DMA', 'Country', 'Population']"
      ]
     },
     "execution_count": 29,
     "metadata": {},
     "output_type": "execute_result"
    }
   ],
   "source": [
    "df.columns.to_list()"
   ]
  },
  {
   "cell_type": "code",
   "execution_count": 30,
   "id": "fd8cf0ec-a869-468c-9087-6832a9944152",
   "metadata": {},
   "outputs": [
    {
     "data": {
      "text/plain": [
       "array(['Springfield-Holyoke MA', 'Boston MA-Manchester NH',\n",
       "       'Albany-Schenectady-Troy NY', 'Providence-New Bedford,MA',\n",
       "       'Burlington VT-Plattsburgh NY', 'Portland-Auburn ME', 'Bangor ME',\n",
       "       'Presque Isle ME', 'Hartford & New Haven CT', 'New York, NY',\n",
       "       'Philadelphia PA', 'Utica NY', 'Binghamton NY', 'Watertown NY',\n",
       "       'Syracuse NY', 'Rochester NY', 'Buffalo NY', 'Elmira (Corning) NY',\n",
       "       'Pittsburgh PA', 'Johnstown-Altoona-State College PA',\n",
       "       'Washington DC (Hagerstown MD)', 'Erie PA', 'Youngstown OH',\n",
       "       'Wilkes Barre-Scranton PA', 'Harrisburg-Lancaster-Lebanon-York PA',\n",
       "       'Salisbury MD', 'Baltimore MD', 'Richmond-Petersburg VA',\n",
       "       'Charlottesville VA', 'Harrisonburg VA', 'Roanoke-Lynchburg VA',\n",
       "       'Norfolk-Portsmouth-Newport News VA',\n",
       "       'Raleigh-Durham (Fayetteville) NC',\n",
       "       'Greensboro-High Point-Winston Salem NC', 'Tri-Cities TN-VA',\n",
       "       'Bluefield-Beckley-Oak Hill WV', 'Charleston-Huntington WV',\n",
       "       'Clarksburg-Weston WV', 'Wheeling WV-Steubenville OH',\n",
       "       'Parkersburg WV', 'Charlotte NC',\n",
       "       'Greenville-New Bern-Washington NC',\n",
       "       'Greenville-Spartanburg-Asheville-Anderson',\n",
       "       'Florence-Myrtle Beach SC', 'Wilmington NC', 'Chattanooga TN',\n",
       "       'Atlanta GA', 'Columbia SC', 'Augusta GA', 'Charleston SC',\n",
       "       'Savannah GA', 'Macon GA', 'Albany GA', 'Columbus GA',\n",
       "       'Jacksonville FL', 'Tallahassee FL-Thomasville GA',\n",
       "       'Orlando-Daytona Beach-Melbourne FL', 'Panama City FL',\n",
       "       'Dothan AL', 'Mobile AL-Pensacola (Ft. Walton Beach) FL',\n",
       "       'Gainesville FL', 'West Palm Beach-Ft. Pierce FL',\n",
       "       'Miami-Ft. Lauderdale FL', 'Ft. Myers-Naples FL',\n",
       "       'Tampa-St. Petersburg (Sarasota) FL',\n",
       "       'Birmingham (Ann and Tusc) AL', 'Montgomery-Selma, AL',\n",
       "       'Huntsville-Decatur (Florence) AL', 'Meridian MS',\n",
       "       'Columbus-Tupelo-West Point MS', 'Nashville TN', 'Knoxville TN',\n",
       "       'Memphis TN',\n",
       "       'Paducah KY-Cape Girardeau MO-Harrisburg-Mount Vernon IL',\n",
       "       'Jackson TN', 'Greenwood-Greenville MS', 'Jackson MS',\n",
       "       'Hattiesburg-Laurel MS', 'New Orleans LA', 'Biloxi-Gulfport MS',\n",
       "       'Baton Rouge LA', 'Louisville KY', 'Lexington KY', 'Cincinnati OH',\n",
       "       'Bowling Green KY', 'Evansville IN', 'Columbus OH',\n",
       "       'Cleveland-Akron (Canton) OH', 'Dayton OH', 'Toledo OH',\n",
       "       'Zanesville OH', 'Lima OH', 'Ft. Wayne IN', 'Indianapolis IN',\n",
       "       'Chicago IL', 'South Bend-Elkhart IN', 'Terre Haute IN',\n",
       "       'Lafayette IN', 'Champaign & Springfield-Decatur IL', 'Detroit MI',\n",
       "       'Flint-Saginaw-Bay City MI', 'Traverse City-Cadillac MI',\n",
       "       'Alpena MI', 'Lansing MI',\n",
       "       'Grand Rapids-Kalamazoo-Battle Creek MI', 'Marquette MI',\n",
       "       'Green Bay-Appleton WI', 'Duluth MN-Superior WI',\n",
       "       'Des Moines-Ames IA', 'Omaha NE',\n",
       "       'Cedar Rapids-Waterloo-Iowa City & Dubuque IA',\n",
       "       'Rochester-Mason City-Austin,IA', 'Sioux City IA',\n",
       "       'Sioux Falls(Mitchell) SD', 'Davenport IA-Rock Island-Moline IL',\n",
       "       'Ottumwa IA-Kirksville MO', 'Quincy IL-Hannibal MO-Keokuk IA',\n",
       "       'Milwaukee WI', 'Madison WI', 'La Crosse-Eau Claire WI',\n",
       "       'Wausau-Rhinelander WI', 'Minneapolis-St. Paul MN', 'Mankato MN',\n",
       "       'Fargo-Valley City ND', 'Rapid City SD',\n",
       "       'Minot-Bismarck-Dickinson(Williston) ND', 'Billings, MT',\n",
       "       'Great Falls MT', 'Glendive MT', 'Helena MT', 'Butte-Bozeman MT',\n",
       "       'Missoula MT', 'Spokane WA', 'Peoria-Bloomington IL',\n",
       "       'Rockford IL', 'St. Louis MO', 'Columbia-Jefferson City MO',\n",
       "       'Kansas City MO', 'St. Joseph MO', 'Springfield MO',\n",
       "       'Joplin MO-Pittsburg KS', 'Topeka KS', 'Wichita-Hutchinson KS',\n",
       "       'Lincoln & Hastings-Kearney NE', 'Tulsa OK', 'Denver CO',\n",
       "       'North Platte NE', 'Cheyenne WY-Scottsbluff NE', 'Lafayette LA',\n",
       "       'Lake Charles LA', 'Alexandria LA', 'Shreveport LA',\n",
       "       'Monroe LA-El Dorado AR', 'Little Rock-Pine Bluff AR',\n",
       "       'Jonesboro AR', 'Ft. Smith-Fayetteville-Springdale-Rogers AR',\n",
       "       'Oklahoma City OK', 'Wichita Falls TX & Lawton OK',\n",
       "       'Sherman-Ada, OK', 'Amarillo TX', 'Dallas-Ft. Worth TX',\n",
       "       'Tyler-Longview(Lufkin & Nacogdoches) TX', 'Waco-Temple-Bryan TX',\n",
       "       'Houston TX', 'Beaumont-Port Arthur TX', 'Abilene-Sweetwater TX',\n",
       "       'Austin TX', 'San Angelo TX', 'Odessa-Midland TX', 'Victoria TX',\n",
       "       'San Antonio TX', 'Corpus Christi TX', 'Laredo TX',\n",
       "       'Harlingen-Weslaco-Brownsville-McAllen TX', 'Lubbock TX',\n",
       "       'El Paso TX', 'Colorado Springs-Pueblo CO',\n",
       "       'Albuquerque-Santa Fe NM', 'Grand Junction-Montrose CO',\n",
       "       'Casper-Riverton WY', 'Salt Lake City UT',\n",
       "       'Idaho Falls-Pocatello ID', 'Twin Falls ID', 'Boise ID',\n",
       "       'Phoenix AZ', 'Tucson (Sierra Vista) AZ', 'Yuma AZ-El Centro CA',\n",
       "       'Las Vegas NV', 'Los Angeles CA', 'Reno NV', 'San Diego CA',\n",
       "       'Palm Springs CA', 'Santa Barbara-Santa Maria-San Luis Obispo CA',\n",
       "       'Fresno-Visalia CA', 'Bakersfield CA', 'Monterey-Salinas CA',\n",
       "       'San Francisco-Oakland-San Jose CA',\n",
       "       'Sacramento-Stockton-Modesto CA', 'Eureka CA', 'Chico-Redding CA',\n",
       "       'Medford-Klamath Falls OR', 'Honolulu HI', 'Portland OR',\n",
       "       'Eugene OR', 'Bend OR', 'Yakima-Pasco-Richland-Kennewick WA',\n",
       "       'Seattle-Tacoma WA', 'Anchorage AK', 'Fairbanks AK', 'Juneau AK'],\n",
       "      dtype=object)"
      ]
     },
     "execution_count": 30,
     "metadata": {},
     "output_type": "execute_result"
    }
   ],
   "source": [
    "df.DMA.unique()"
   ]
  },
  {
   "cell_type": "code",
   "execution_count": 32,
   "id": "575dd74b-cf3d-4f07-9629-69bde86b2381",
   "metadata": {},
   "outputs": [
    {
     "data": {
      "text/plain": [
       "Population\n",
       "0        1922\n",
       "132        20\n",
       "498        17\n",
       "384        16\n",
       "564        16\n",
       "         ... \n",
       "16610       1\n",
       "31431       1\n",
       "20567       1\n",
       "77226       1\n",
       "9223        1\n",
       "Name: count, Length: 15444, dtype: int64"
      ]
     },
     "execution_count": 32,
     "metadata": {},
     "output_type": "execute_result"
    }
   ],
   "source": [
    "df.Population.value_counts()"
   ]
  },
  {
   "cell_type": "code",
   "execution_count": 33,
   "id": "7d991a5b-53fa-4ef9-8a6d-d9cf1843c3b7",
   "metadata": {},
   "outputs": [
    {
     "data": {
      "text/plain": [
       "15444"
      ]
     },
     "execution_count": 33,
     "metadata": {},
     "output_type": "execute_result"
    }
   ],
   "source": [
    "df.Population.nunique()"
   ]
  },
  {
   "cell_type": "code",
   "execution_count": 34,
   "id": "4ec852e5-a7da-4850-8db5-1d8a9beacb4f",
   "metadata": {},
   "outputs": [
    {
     "data": {
      "text/plain": [
       "Zip Code      31854\n",
       "DMA           31854\n",
       "Country       31854\n",
       "Population    31854\n",
       "dtype: int64"
      ]
     },
     "execution_count": 34,
     "metadata": {},
     "output_type": "execute_result"
    }
   ],
   "source": [
    "df.count()"
   ]
  },
  {
   "cell_type": "code",
   "execution_count": 35,
   "id": "f639b800-67a6-4d4f-930e-3f7fdfad5c33",
   "metadata": {},
   "outputs": [
    {
     "data": {
      "text/plain": [
       "31854"
      ]
     },
     "execution_count": 35,
     "metadata": {},
     "output_type": "execute_result"
    }
   ],
   "source": [
    "len(df)"
   ]
  },
  {
   "cell_type": "code",
   "execution_count": 36,
   "id": "7bdac7bc-2e96-456e-b36a-7007eb4357b1",
   "metadata": {},
   "outputs": [],
   "source": [
    "df=pd.read_excel('HCPSegmentData.xlsx')"
   ]
  },
  {
   "cell_type": "code",
   "execution_count": 37,
   "id": "3224c8d2-26fd-4f64-bfa3-a8d14d86f490",
   "metadata": {},
   "outputs": [
    {
     "data": {
      "text/plain": [
       "['SymphonyID',\n",
       " 'Specialty',\n",
       " 'Priority',\n",
       " 'Decile',\n",
       " 'Segment',\n",
       " 'LAOTRx',\n",
       " 'BupMktTRx',\n",
       " 'TRx',\n",
       " 'NRx',\n",
       " 'PDE',\n",
       " 'Copay',\n",
       " 'SpeakerEvent',\n",
       " 'AUFlag']"
      ]
     },
     "execution_count": 37,
     "metadata": {},
     "output_type": "execute_result"
    }
   ],
   "source": [
    "df.columns.to_list()"
   ]
  },
  {
   "cell_type": "code",
   "execution_count": 40,
   "id": "c4b4b8ca-f540-4288-a47b-be2bd18cb0c3",
   "metadata": {},
   "outputs": [],
   "source": [
    "df1=pd.read_excel('DMA-ZIP-Population.xlsx')"
   ]
  },
  {
   "cell_type": "code",
   "execution_count": 41,
   "id": "1ea76e9f-2906-48ea-9552-7e8a05d789fa",
   "metadata": {},
   "outputs": [
    {
     "data": {
      "text/plain": [
       "(31854, 4)"
      ]
     },
     "execution_count": 41,
     "metadata": {},
     "output_type": "execute_result"
    }
   ],
   "source": [
    "df1.shape"
   ]
  },
  {
   "cell_type": "code",
   "execution_count": 42,
   "id": "ef4ae8b6-915a-4942-a4ea-08f27497c864",
   "metadata": {},
   "outputs": [],
   "source": [
    "df2=pd.read_csv('zip_dma.csv')"
   ]
  },
  {
   "cell_type": "code",
   "execution_count": 43,
   "id": "959146d6-873d-4b93-a164-bb4efa97a305",
   "metadata": {},
   "outputs": [
    {
     "data": {
      "text/plain": [
       "(31854, 4)"
      ]
     },
     "execution_count": 43,
     "metadata": {},
     "output_type": "execute_result"
    }
   ],
   "source": [
    "df2.shape"
   ]
  },
  {
   "cell_type": "code",
   "execution_count": 44,
   "id": "69e7aa99-6754-4582-96d0-8e130af8a97f",
   "metadata": {},
   "outputs": [
    {
     "data": {
      "text/plain": [
       "Index(['Zip Code', 'DMA', 'County/State', 'Population'], dtype='object')"
      ]
     },
     "execution_count": 44,
     "metadata": {},
     "output_type": "execute_result"
    }
   ],
   "source": [
    "df1.columns"
   ]
  },
  {
   "cell_type": "code",
   "execution_count": 45,
   "id": "22fc6d3c-81e9-41e7-ba79-768d34a6fcf4",
   "metadata": {},
   "outputs": [
    {
     "data": {
      "text/plain": [
       "Index(['Zip Code', 'DMA', 'Country', 'Population'], dtype='object')"
      ]
     },
     "execution_count": 45,
     "metadata": {},
     "output_type": "execute_result"
    }
   ],
   "source": [
    "df2.columns"
   ]
  },
  {
   "cell_type": "code",
   "execution_count": 47,
   "id": "96a95f15-9843-492b-a583-d7732d1f0763",
   "metadata": {},
   "outputs": [
    {
     "name": "stdout",
     "output_type": "stream",
     "text": [
      "<class 'pandas.core.frame.DataFrame'>\n",
      "RangeIndex: 31854 entries, 0 to 31853\n",
      "Data columns (total 4 columns):\n",
      " #   Column        Non-Null Count  Dtype \n",
      "---  ------        --------------  ----- \n",
      " 0   Zip Code      31854 non-null  int64 \n",
      " 1   DMA           31854 non-null  object\n",
      " 2   County/State  31854 non-null  object\n",
      " 3   Population    31854 non-null  int64 \n",
      "dtypes: int64(2), object(2)\n",
      "memory usage: 995.6+ KB\n"
     ]
    }
   ],
   "source": [
    "df1.info()"
   ]
  },
  {
   "cell_type": "code",
   "execution_count": 49,
   "id": "f0069501-21d8-4c88-8f0c-3f835036d09b",
   "metadata": {},
   "outputs": [
    {
     "name": "stdout",
     "output_type": "stream",
     "text": [
      "<class 'pandas.core.frame.DataFrame'>\n",
      "RangeIndex: 31854 entries, 0 to 31853\n",
      "Data columns (total 4 columns):\n",
      " #   Column      Non-Null Count  Dtype \n",
      "---  ------      --------------  ----- \n",
      " 0   Zip Code    31854 non-null  int64 \n",
      " 1   DMA         31854 non-null  object\n",
      " 2   Country     31854 non-null  object\n",
      " 3   Population  31854 non-null  int64 \n",
      "dtypes: int64(2), object(2)\n",
      "memory usage: 995.6+ KB\n"
     ]
    }
   ],
   "source": [
    "df2.info()"
   ]
  },
  {
   "cell_type": "code",
   "execution_count": 50,
   "id": "1e50f053-e3c9-4ec1-b312-2af8462802ed",
   "metadata": {},
   "outputs": [
    {
     "data": {
      "text/plain": [
       "Zip Code  DMA                      County/State            Population\n",
       "99824     Juneau AK                JUNEAU, AK              2255          1\n",
       "1001      Springfield-Holyoke MA   HAMPDEN BALANCE, MA     17537         1\n",
       "1002      Springfield-Holyoke MA   HAMPSHIRE, MA           30280         1\n",
       "1003      Springfield-Holyoke MA   HAMPSHIRE, MA           11131         1\n",
       "1005      Boston MA-Manchester NH  WORCESTER WO SPLIT, MA  5014          1\n",
       "                                                                        ..\n",
       "1030      Springfield-Holyoke MA   HAMPDEN BALANCE, MA     11211         1\n",
       "1031      Boston MA-Manchester NH  WORCESTER B SPLIT, MA   1151          1\n",
       "1032      Springfield-Holyoke MA   HAMPSHIRE, MA           551           1\n",
       "1033      Springfield-Holyoke MA   HAMPSHIRE, MA           6300          1\n",
       "1034      Springfield-Holyoke MA   HAMPDEN BALANCE, MA     2313          1\n",
       "Name: count, Length: 31854, dtype: int64"
      ]
     },
     "execution_count": 50,
     "metadata": {},
     "output_type": "execute_result"
    }
   ],
   "source": [
    "df1.value_counts()"
   ]
  },
  {
   "cell_type": "code",
   "execution_count": 51,
   "id": "f654a7cb-5c4c-48d1-837b-121590dc28da",
   "metadata": {},
   "outputs": [
    {
     "data": {
      "text/plain": [
       "Zip Code  DMA                      Country                 Population\n",
       "99824     Juneau AK                JUNEAU, AK              2255          1\n",
       "1001      Springfield-Holyoke MA   HAMPDEN BALANCE, MA     17537         1\n",
       "1002      Springfield-Holyoke MA   HAMPSHIRE, MA           30280         1\n",
       "1003      Springfield-Holyoke MA   HAMPSHIRE, MA           11131         1\n",
       "1005      Boston MA-Manchester NH  WORCESTER WO SPLIT, MA  5014          1\n",
       "                                                                        ..\n",
       "1030      Springfield-Holyoke MA   HAMPDEN BALANCE, MA     11211         1\n",
       "1031      Boston MA-Manchester NH  WORCESTER B SPLIT, MA   1151          1\n",
       "1032      Springfield-Holyoke MA   HAMPSHIRE, MA           551           1\n",
       "1033      Springfield-Holyoke MA   HAMPSHIRE, MA           6300          1\n",
       "1034      Springfield-Holyoke MA   HAMPDEN BALANCE, MA     2313          1\n",
       "Name: count, Length: 31854, dtype: int64"
      ]
     },
     "execution_count": 51,
     "metadata": {},
     "output_type": "execute_result"
    }
   ],
   "source": [
    "df2.value_counts()"
   ]
  },
  {
   "cell_type": "code",
   "execution_count": 52,
   "id": "87eca57a-0b64-413a-b6a0-fe522e2c6ee6",
   "metadata": {},
   "outputs": [
    {
     "data": {
      "text/plain": [
       "False"
      ]
     },
     "execution_count": 52,
     "metadata": {},
     "output_type": "execute_result"
    }
   ],
   "source": [
    "df1.equals(df2)"
   ]
  },
  {
   "cell_type": "code",
   "execution_count": 53,
   "id": "b1a0402e-4c5b-4ab4-8dfb-22d722719c9f",
   "metadata": {},
   "outputs": [
    {
     "data": {
      "text/plain": [
       "Zip Code        0\n",
       "DMA             0\n",
       "County/State    0\n",
       "Population      0\n",
       "dtype: int64"
      ]
     },
     "execution_count": 53,
     "metadata": {},
     "output_type": "execute_result"
    }
   ],
   "source": [
    "df1.isnull().sum()"
   ]
  },
  {
   "cell_type": "code",
   "execution_count": 54,
   "id": "63499b77-6e31-416b-8acb-32ac9730278a",
   "metadata": {},
   "outputs": [
    {
     "data": {
      "text/plain": [
       "Zip Code      0\n",
       "DMA           0\n",
       "Country       0\n",
       "Population    0\n",
       "dtype: int64"
      ]
     },
     "execution_count": 54,
     "metadata": {},
     "output_type": "execute_result"
    }
   ],
   "source": [
    "df2.isnull().sum()"
   ]
  },
  {
   "cell_type": "code",
   "execution_count": 55,
   "id": "d74e9afd-23af-4fa2-b665-f41de9e6cd8f",
   "metadata": {},
   "outputs": [],
   "source": [
    "df1=df1.rename(columns={'County/State': 'Country'})"
   ]
  },
  {
   "cell_type": "code",
   "execution_count": 56,
   "id": "4c6f5ed3-9466-4615-8c7a-75fc2f6a994b",
   "metadata": {},
   "outputs": [
    {
     "data": {
      "text/plain": [
       "True"
      ]
     },
     "execution_count": 56,
     "metadata": {},
     "output_type": "execute_result"
    }
   ],
   "source": [
    "df1.equals(df2)"
   ]
  },
  {
   "cell_type": "code",
   "execution_count": null,
   "id": "a6fa7650-e20c-4704-9b2e-a19c0637f1a0",
   "metadata": {},
   "outputs": [],
   "source": []
  }
 ],
 "metadata": {
  "kernelspec": {
   "display_name": "Python 3 (ipykernel)",
   "language": "python",
   "name": "python3"
  },
  "language_info": {
   "codemirror_mode": {
    "name": "ipython",
    "version": 3
   },
   "file_extension": ".py",
   "mimetype": "text/x-python",
   "name": "python",
   "nbconvert_exporter": "python",
   "pygments_lexer": "ipython3",
   "version": "3.11.6"
  }
 },
 "nbformat": 4,
 "nbformat_minor": 5
}
