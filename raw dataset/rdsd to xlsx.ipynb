{
 "cells": [
  {
   "cell_type": "code",
   "execution_count": 1,
   "id": "dc8401db-25f7-4490-a94a-2194bca0c787",
   "metadata": {},
   "outputs": [
    {
     "name": "stdout",
     "output_type": "stream",
     "text": [
      "Collecting pyreadr\n",
      "  Downloading pyreadr-0.5.2-cp311-cp311-win_amd64.whl.metadata (1.2 kB)\n",
      "Requirement already satisfied: pandas>=1.2.0 in c:\\python\\lib\\site-packages (from pyreadr) (2.2.3)\n",
      "Requirement already satisfied: numpy>=1.23.2 in c:\\python\\lib\\site-packages (from pandas>=1.2.0->pyreadr) (2.2.2)\n",
      "Requirement already satisfied: python-dateutil>=2.8.2 in c:\\python\\lib\\site-packages (from pandas>=1.2.0->pyreadr) (2.9.0.post0)\n",
      "Requirement already satisfied: pytz>=2020.1 in c:\\python\\lib\\site-packages (from pandas>=1.2.0->pyreadr) (2024.2)\n",
      "Requirement already satisfied: tzdata>=2022.7 in c:\\python\\lib\\site-packages (from pandas>=1.2.0->pyreadr) (2025.1)\n",
      "Requirement already satisfied: six>=1.5 in c:\\python\\lib\\site-packages (from python-dateutil>=2.8.2->pandas>=1.2.0->pyreadr) (1.17.0)\n",
      "Downloading pyreadr-0.5.2-cp311-cp311-win_amd64.whl (1.3 MB)\n",
      "   ---------------------------------------- 0.0/1.3 MB ? eta -:--:--\n",
      "   -------- ------------------------------- 0.3/1.3 MB ? eta -:--:--\n",
      "   ------------------------- -------------- 0.8/1.3 MB 2.0 MB/s eta 0:00:01\n",
      "   ---------------------------------------- 1.3/1.3 MB 2.3 MB/s eta 0:00:00\n",
      "Installing collected packages: pyreadr\n",
      "Successfully installed pyreadr-0.5.2\n",
      "Note: you may need to restart the kernel to use updated packages.\n"
     ]
    }
   ],
   "source": [
    "pip install pyreadr"
   ]
  },
  {
   "cell_type": "code",
   "execution_count": 2,
   "id": "5980112e-a2fc-481b-b965-b025814394e3",
   "metadata": {},
   "outputs": [
    {
     "data": {
      "text/plain": [
       "'C:\\\\Users\\\\HP'"
      ]
     },
     "execution_count": 2,
     "metadata": {},
     "output_type": "execute_result"
    }
   ],
   "source": [
    "pwd"
   ]
  },
  {
   "cell_type": "code",
   "execution_count": 6,
   "id": "446bc57a-e860-4960-aa98-aecbcd663e4a",
   "metadata": {},
   "outputs": [
    {
     "name": "stdout",
     "output_type": "stream",
     "text": [
      "[WinError 2] The system cannot find the file specified: 'OneDrive/'\n",
      "C:\\Users\\HP\\OneDrive\n"
     ]
    }
   ],
   "source": [
    "cd OneDrive/"
   ]
  },
  {
   "cell_type": "code",
   "execution_count": 8,
   "id": "ea9bc95a-43d2-4be2-8da2-af1112e12410",
   "metadata": {},
   "outputs": [
    {
     "name": "stdout",
     "output_type": "stream",
     "text": [
      "C:\\Users\\HP\\OneDrive\\Desktop\n"
     ]
    }
   ],
   "source": [
    "cd Desktop"
   ]
  },
  {
   "cell_type": "code",
   "execution_count": 9,
   "id": "aab1b795-380b-48ac-8348-42c0f5fc44f5",
   "metadata": {},
   "outputs": [
    {
     "name": "stdout",
     "output_type": "stream",
     "text": [
      "C:\\Users\\HP\\OneDrive\\Desktop\\Previous yearfor Validation\n"
     ]
    },
    {
     "name": "stderr",
     "output_type": "stream",
     "text": [
      "C:\\PYTHON\\Lib\\site-packages\\IPython\\core\\magics\\osm.py:417: UserWarning: This is now an optional IPython functionality, setting dhist requires you to install the `pickleshare` library.\n",
      "  self.shell.db['dhist'] = compress_dhist(dhist)[-100:]\n"
     ]
    }
   ],
   "source": [
    "cd \"Previous yearfor Validation\""
   ]
  },
  {
   "cell_type": "code",
   "execution_count": 12,
   "id": "ec6cc598-e97b-4769-af41-cbc2db89b9e4",
   "metadata": {},
   "outputs": [
    {
     "name": "stdout",
     "output_type": "stream",
     "text": [
      "Conversion completed\n"
     ]
    }
   ],
   "source": [
    "import pyreadr\n",
    "import pandas as pd\n",
    "\n",
    "# Read the RDS file\n",
    "rds_data = pyreadr.read_r(\"DMAMasterData.rds\")  # Replace with your actual file path\n",
    "\n",
    "# Extract the first DataFrame\n",
    "df = next(iter(rds_data.values()))\n",
    "\n",
    "# Save it as an Excel file\n",
    "df.to_excel(\"DMAMasterData.xls\", index=False)\n",
    "\n",
    "print(\"Conversion completed\")\n"
   ]
  },
  {
   "cell_type": "code",
   "execution_count": 11,
   "id": "3f86e9d5-b3e4-4860-8d41-0726e1f1bab3",
   "metadata": {},
   "outputs": [
    {
     "name": "stdout",
     "output_type": "stream",
     "text": [
      "Collecting openpyxl\n",
      "  Downloading openpyxl-3.1.5-py2.py3-none-any.whl.metadata (2.5 kB)\n",
      "Collecting et-xmlfile (from openpyxl)\n",
      "  Downloading et_xmlfile-2.0.0-py3-none-any.whl.metadata (2.7 kB)\n",
      "Downloading openpyxl-3.1.5-py2.py3-none-any.whl (250 kB)\n",
      "Downloading et_xmlfile-2.0.0-py3-none-any.whl (18 kB)\n",
      "Installing collected packages: et-xmlfile, openpyxl\n",
      "Successfully installed et-xmlfile-2.0.0 openpyxl-3.1.5\n"
     ]
    }
   ],
   "source": [
    "!pip install openpyxl"
   ]
  },
  {
   "cell_type": "code",
   "execution_count": 14,
   "id": "684fb019-d591-4eb7-8980-4d9d3134740c",
   "metadata": {},
   "outputs": [
    {
     "name": "stdout",
     "output_type": "stream",
     "text": [
      "Conversion completed\n"
     ]
    }
   ],
   "source": [
    "import pyreadr\n",
    "import pandas as pd\n",
    "\n",
    "# Read the RDS file\n",
    "rds_data = pyreadr.read_r(\"HCPMasterData.rds\")  # Replace with your actual file path\n",
    "\n",
    "# Extract the first DataFrame\n",
    "df = next(iter(rds_data.values()))\n",
    "\n",
    "# Save it as an Excel file\n",
    "df.to_excel(\"HCPMasterData.xlsx\", index=False)\n",
    "\n",
    "print(\"Conversion completed\")"
   ]
  },
  {
   "cell_type": "code",
   "execution_count": 15,
   "id": "2c0e68bf-4b31-453a-bd48-08c0301a09de",
   "metadata": {},
   "outputs": [
    {
     "name": "stdout",
     "output_type": "stream",
     "text": [
      "Conversion completed\n"
     ]
    }
   ],
   "source": [
    "import pyreadr\n",
    "import pandas as pd\n",
    "\n",
    "# Read the RDS file\n",
    "rds_data = pyreadr.read_r(\"HCPSegmentData.rds\")  # Replace with your actual file path\n",
    "\n",
    "# Extract the first DataFrame\n",
    "df = next(iter(rds_data.values()))\n",
    "\n",
    "# Save it as an Excel file\n",
    "df.to_excel(\"HCPSegmentData.xlsx\", index=False)\n",
    "\n",
    "print(\"Conversion completed\")\n"
   ]
  },
  {
   "cell_type": "code",
   "execution_count": 16,
   "id": "596f61e6-279a-4331-85a5-26a452fdad74",
   "metadata": {},
   "outputs": [
    {
     "data": {
      "text/plain": [
       "'C:\\\\Users\\\\HP\\\\OneDrive\\\\Desktop\\\\Previous yearfor Validation'"
      ]
     },
     "execution_count": 16,
     "metadata": {},
     "output_type": "execute_result"
    }
   ],
   "source": [
    "pwd"
   ]
  },
  {
   "cell_type": "code",
   "execution_count": 17,
   "id": "b938632c-e68b-4a08-88fa-62ffb962190f",
   "metadata": {},
   "outputs": [
    {
     "name": "stdout",
     "output_type": "stream",
     "text": [
      "C:\\Users\\HP\\OneDrive\\Desktop\n"
     ]
    },
    {
     "name": "stderr",
     "output_type": "stream",
     "text": [
      "C:\\PYTHON\\Lib\\site-packages\\IPython\\core\\magics\\osm.py:417: UserWarning: This is now an optional IPython functionality, setting dhist requires you to install the `pickleshare` library.\n",
      "  self.shell.db['dhist'] = compress_dhist(dhist)[-100:]\n"
     ]
    }
   ],
   "source": [
    "cd .."
   ]
  },
  {
   "cell_type": "code",
   "execution_count": 18,
   "id": "e25a1330-cf8a-486b-85da-3cd3e77bc904",
   "metadata": {},
   "outputs": [
    {
     "data": {
      "text/plain": [
       "'C:\\\\Users\\\\HP\\\\OneDrive\\\\Desktop'"
      ]
     },
     "execution_count": 18,
     "metadata": {},
     "output_type": "execute_result"
    }
   ],
   "source": [
    "pwd"
   ]
  },
  {
   "cell_type": "code",
   "execution_count": 19,
   "id": "80356387-c464-4e29-8476-e3059ea9f28a",
   "metadata": {},
   "outputs": [
    {
     "name": "stdout",
     "output_type": "stream",
     "text": [
      "C:\\Users\\HP\\OneDrive\\Desktop\\Data sets\n"
     ]
    },
    {
     "name": "stderr",
     "output_type": "stream",
     "text": [
      "C:\\PYTHON\\Lib\\site-packages\\IPython\\core\\magics\\osm.py:417: UserWarning: This is now an optional IPython functionality, setting dhist requires you to install the `pickleshare` library.\n",
      "  self.shell.db['dhist'] = compress_dhist(dhist)[-100:]\n"
     ]
    }
   ],
   "source": [
    "cd \"Data sets\""
   ]
  },
  {
   "cell_type": "code",
   "execution_count": 20,
   "id": "c6507eb0-c00c-43fd-af93-468d0f9e442a",
   "metadata": {},
   "outputs": [
    {
     "name": "stdout",
     "output_type": "stream",
     "text": [
      "Conversion completed\n"
     ]
    }
   ],
   "source": [
    "import pyreadr\n",
    "import pandas as pd\n",
    "\n",
    "# Read the RDS file\n",
    "rds_data = pyreadr.read_r(\"ConsumerNPPMasterData.rds\")  # Replace with your actual file path\n",
    "\n",
    "# Extract the first DataFrame\n",
    "df = next(iter(rds_data.values()))\n",
    "\n",
    "# Save it as an Excel file\n",
    "df.to_excel(\"ConsumerNPPMasterData.xlsx\", index=False)\n",
    "\n",
    "print(\"Conversion completed\")"
   ]
  },
  {
   "cell_type": "code",
   "execution_count": 10,
   "id": "ebcae179-d01f-4e1f-9dce-8697ffb50dad",
   "metadata": {},
   "outputs": [
    {
     "name": "stdout",
     "output_type": "stream",
     "text": [
      "Conversion completed\n"
     ]
    }
   ],
   "source": [
    "import pyreadr\n",
    "import pandas as pd\n",
    "\n",
    "# Read the RDS file\n",
    "rds_data = pyreadr.read_r(\"HCPFinalSegment.RDS\")  # Replace with your actual file path\n",
    "\n",
    "# Extract the first DataFrame\n",
    "df = next(iter(rds_data.values()))\n",
    "\n",
    "# Save it as an Excel file\n",
    "df.to_excel(\"HCPFinalSegment.xlsx\", index=False)\n",
    "\n",
    "print(\"Conversion completed\")"
   ]
  },
  {
   "cell_type": "code",
   "execution_count": 4,
   "id": "ddd888ca-65fa-4d27-9d00-306b1a684472",
   "metadata": {},
   "outputs": [
    {
     "name": "stdout",
     "output_type": "stream",
     "text": [
      "C:\\Users\\HP\\OneDrive\\Desktop\\mock project\\Data sets\n"
     ]
    },
    {
     "name": "stderr",
     "output_type": "stream",
     "text": [
      "C:\\PYTHON\\Lib\\site-packages\\IPython\\core\\magics\\osm.py:417: UserWarning: This is now an optional IPython functionality, setting dhist requires you to install the `pickleshare` library.\n",
      "  self.shell.db['dhist'] = compress_dhist(dhist)[-100:]\n"
     ]
    }
   ],
   "source": [
    "cd \"Data sets\""
   ]
  },
  {
   "cell_type": "code",
   "execution_count": 5,
   "id": "2a932570-d25c-4af6-90c8-e6bb384947e7",
   "metadata": {},
   "outputs": [
    {
     "name": "stdout",
     "output_type": "stream",
     "text": [
      "Conversion completed\n"
     ]
    }
   ],
   "source": [
    "import pyreadr\n",
    "import pandas as pd\n",
    "\n",
    "# Read the RDS file\n",
    "rds_data = pyreadr.read_r(\"HCPMasterData.rds\")  # Replace with your actual file path\n",
    "\n",
    "# Extract the first DataFrame\n",
    "df = next(iter(rds_data.values()))\n",
    "\n",
    "# Save it as an Excel file\n",
    "df.to_excel(\"HCPMasterData.xlsx\", index=False)\n",
    "\n",
    "print(\"Conversion completed\")"
   ]
  },
  {
   "cell_type": "code",
   "execution_count": null,
   "id": "36870064-e531-4e1a-8aaf-02ea7c5273a4",
   "metadata": {},
   "outputs": [],
   "source": [
    "# Read the RDS file\n",
    "rds_data = pyreadr.read_r(\"HCPNPPMasterData.rds\")  # Replace with your actual file path\n",
    "\n",
    "# Extract the first DataFrame\n",
    "df = next(iter(rds_data.values()))\n",
    "\n",
    "# Save it as an Excel file\n",
    "df.to_excel(\"HCPNPPMasterData.xlsx\", index=False)\n",
    "\n",
    "print(\"Conversion completed\")"
   ]
  },
  {
   "cell_type": "code",
   "execution_count": 4,
   "id": "076122d5-2430-4f2c-8d9d-836b62086d91",
   "metadata": {},
   "outputs": [
    {
     "name": "stdout",
     "output_type": "stream",
     "text": [
      "C:\\Users\\HP\\OneDrive\\Desktop\\mock project\\Data sets\n"
     ]
    },
    {
     "name": "stderr",
     "output_type": "stream",
     "text": [
      "C:\\PYTHON\\Lib\\site-packages\\IPython\\core\\magics\\osm.py:417: UserWarning: This is now an optional IPython functionality, setting dhist requires you to install the `pickleshare` library.\n",
      "  self.shell.db['dhist'] = compress_dhist(dhist)[-100:]\n"
     ]
    }
   ],
   "source": [
    "cd \"Data sets\""
   ]
  },
  {
   "cell_type": "code",
   "execution_count": 6,
   "id": "443585f0-3cd9-4ac1-b7af-3b9e051deec0",
   "metadata": {},
   "outputs": [
    {
     "name": "stdout",
     "output_type": "stream",
     "text": [
      "Conversion completed\n"
     ]
    }
   ],
   "source": [
    "import pyreadr\n",
    "import pandas as pd\n",
    "\n",
    "# Read the RDS file\n",
    "rds_data = pyreadr.read_r(\"HCPSegmentData.rds\")  # Replace with your actual file path\n",
    "\n",
    "# Extract the first DataFrame\n",
    "df = next(iter(rds_data.values()))\n",
    "\n",
    "# Save it as an Excel file\n",
    "df.to_excel(\"HCPSegmentData.xlsx\", index=False)\n",
    "\n",
    "print(\"Conversion completed\")"
   ]
  },
  {
   "cell_type": "code",
   "execution_count": 1,
   "id": "82a00bf2-5091-4a37-aad5-ab5c0dfd5363",
   "metadata": {},
   "outputs": [
    {
     "data": {
      "text/plain": [
       "'C:\\\\Users\\\\HP\\\\OneDrive\\\\Desktop'"
      ]
     },
     "execution_count": 1,
     "metadata": {},
     "output_type": "execute_result"
    }
   ],
   "source": [
    "pwd"
   ]
  },
  {
   "cell_type": "code",
   "execution_count": 2,
   "id": "9245b654-0d8a-4af3-b41a-0ce8c45509c8",
   "metadata": {},
   "outputs": [
    {
     "name": "stdout",
     "output_type": "stream",
     "text": [
      "C:\\Users\\HP\\OneDrive\\Desktop\\Data sets\n"
     ]
    },
    {
     "name": "stderr",
     "output_type": "stream",
     "text": [
      "C:\\PYTHON\\Lib\\site-packages\\IPython\\core\\magics\\osm.py:417: UserWarning: This is now an optional IPython functionality, setting dhist requires you to install the `pickleshare` library.\n",
      "  self.shell.db['dhist'] = compress_dhist(dhist)[-100:]\n"
     ]
    }
   ],
   "source": [
    "cd \"Data sets\""
   ]
  },
  {
   "cell_type": "code",
   "execution_count": 4,
   "id": "0276c97b-7e39-4f4f-b7bf-e251ccdcb8d7",
   "metadata": {},
   "outputs": [
    {
     "name": "stdout",
     "output_type": "stream",
     "text": [
      "Conversion completed\n"
     ]
    }
   ],
   "source": [
    "import pyreadr\n",
    "import pandas as pd\n",
    "\n",
    "# Read the RDS file\n",
    "rds_data = pyreadr.read_r(\"HCPSegmentData.rds\")  # Replace with your actual file path\n",
    "\n",
    "# Extract the first DataFrame\n",
    "df = next(iter(rds_data.values()))\n",
    "\n",
    "# Save it as an Excel file\n",
    "df.to_excel(\"HCPSegmentData.xlsx\", index=False)\n",
    "\n",
    "print(\"Conversion completed\")"
   ]
  },
  {
   "cell_type": "code",
   "execution_count": 1,
   "id": "4c598874-1d31-489f-8d90-5aea6c4685ed",
   "metadata": {},
   "outputs": [
    {
     "data": {
      "text/plain": [
       "'C:\\\\Users\\\\HP\\\\OneDrive\\\\Desktop\\\\mock project'"
      ]
     },
     "execution_count": 1,
     "metadata": {},
     "output_type": "execute_result"
    }
   ],
   "source": [
    "pwd"
   ]
  },
  {
   "cell_type": "code",
   "execution_count": null,
   "id": "615f24c0-60d9-48ad-9c31-ed00278987ea",
   "metadata": {},
   "outputs": [],
   "source": []
  }
 ],
 "metadata": {
  "kernelspec": {
   "display_name": "Python 3 (ipykernel)",
   "language": "python",
   "name": "python3"
  },
  "language_info": {
   "codemirror_mode": {
    "name": "ipython",
    "version": 3
   },
   "file_extension": ".py",
   "mimetype": "text/x-python",
   "name": "python",
   "nbconvert_exporter": "python",
   "pygments_lexer": "ipython3",
   "version": "3.11.6"
  }
 },
 "nbformat": 4,
 "nbformat_minor": 5
}
